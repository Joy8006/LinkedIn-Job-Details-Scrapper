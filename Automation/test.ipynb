{
 "cells": [
  {
   "cell_type": "code",
   "execution_count": 19,
   "metadata": {},
   "outputs": [],
   "source": [
    "from selenium import webdriver\n",
    "from selenium.webdriver.common.keys import Keys"
   ]
  },
  {
   "cell_type": "code",
   "execution_count": 20,
   "metadata": {},
   "outputs": [],
   "source": [
    "userName = \"indroneel1000@gmail.com\"\n",
    "password = \"nevergiveup\""
   ]
  },
  {
   "cell_type": "code",
   "execution_count": 21,
   "metadata": {},
   "outputs": [],
   "source": [
    "driver = webdriver.Chrome()\n",
    "driver.get(\"https://www.linkedin.com/job/home\")"
   ]
  },
  {
   "cell_type": "code",
   "execution_count": 22,
   "metadata": {},
   "outputs": [],
   "source": [
    "driver.maximize_window()"
   ]
  },
  {
   "cell_type": "code",
   "execution_count": 23,
   "metadata": {},
   "outputs": [],
   "source": [
    "jobTitle = []\n",
    "companyName = []\n",
    "location = []\n",
    "\n",
    "title = driver.find_elements_by_class_name(\"base-search-card__title\")\n",
    "for i in range(len(title)):\n",
    "    jobTitle.append(title[i].text)\n",
    "\n",
    "company = driver.find_elements_by_class_name(\"base-search-card__subtitle\")\n",
    "for i in range(len(company)):\n",
    "    companyName.append(company[i].text)\n",
    "\n",
    "locations = driver.find_elements_by_class_name(\"job-search-card__location\")\n",
    "for i in range(len(locations)):\n",
    "    location.append(locations[i].text)\n",
    "\n",
    "\n"
   ]
  },
  {
   "cell_type": "code",
   "execution_count": 24,
   "metadata": {},
   "outputs": [],
   "source": [
    "import pandas as pd\n",
    "\n",
    "list_of_tuples = list(zip(jobTitle, companyName,location))\n",
    "\n",
    "df = pd.DataFrame(list_of_tuples,\n",
    "                  columns = ['Job Title', 'Company Name', 'Job Location'])\n"
   ]
  },
  {
   "cell_type": "code",
   "execution_count": 25,
   "metadata": {},
   "outputs": [
    {
     "name": "stdout",
     "output_type": "stream",
     "text": [
      "175\n",
      "175\n",
      "175\n"
     ]
    }
   ],
   "source": [
    "print(len(jobTitle))\n",
    "print(len(companyName))\n",
    "print(len(location))"
   ]
  },
  {
   "cell_type": "code",
   "execution_count": 26,
   "metadata": {},
   "outputs": [
    {
     "data": {
      "text/html": [
       "<div>\n",
       "<style scoped>\n",
       "    .dataframe tbody tr th:only-of-type {\n",
       "        vertical-align: middle;\n",
       "    }\n",
       "\n",
       "    .dataframe tbody tr th {\n",
       "        vertical-align: top;\n",
       "    }\n",
       "\n",
       "    .dataframe thead th {\n",
       "        text-align: right;\n",
       "    }\n",
       "</style>\n",
       "<table border=\"1\" class=\"dataframe\">\n",
       "  <thead>\n",
       "    <tr style=\"text-align: right;\">\n",
       "      <th></th>\n",
       "      <th>Job Title</th>\n",
       "      <th>Company Name</th>\n",
       "      <th>Job Location</th>\n",
       "    </tr>\n",
       "  </thead>\n",
       "  <tbody>\n",
       "    <tr>\n",
       "      <th>0</th>\n",
       "      <td>Software Engineer II</td>\n",
       "      <td>Bank of America</td>\n",
       "      <td>Charlotte, NC</td>\n",
       "    </tr>\n",
       "    <tr>\n",
       "      <th>1</th>\n",
       "      <td>Software Engineer (Backend or Full-Stack)</td>\n",
       "      <td>Candid Health</td>\n",
       "      <td>San Francisco, CA</td>\n",
       "    </tr>\n",
       "    <tr>\n",
       "      <th>2</th>\n",
       "      <td>Software Engineer Intern</td>\n",
       "      <td>Allscripts</td>\n",
       "      <td>Raleigh, NC</td>\n",
       "    </tr>\n",
       "    <tr>\n",
       "      <th>3</th>\n",
       "      <td>Software Engineer</td>\n",
       "      <td>Treet</td>\n",
       "      <td>San Francisco Bay Area</td>\n",
       "    </tr>\n",
       "    <tr>\n",
       "      <th>4</th>\n",
       "      <td>Software Engineer</td>\n",
       "      <td>Promise</td>\n",
       "      <td>San Francisco Bay Area</td>\n",
       "    </tr>\n",
       "    <tr>\n",
       "      <th>...</th>\n",
       "      <td>...</td>\n",
       "      <td>...</td>\n",
       "      <td>...</td>\n",
       "    </tr>\n",
       "    <tr>\n",
       "      <th>170</th>\n",
       "      <td>Full Stack Developer - JR Level REMOTE</td>\n",
       "      <td>Actalent</td>\n",
       "      <td>Plano, TX</td>\n",
       "    </tr>\n",
       "    <tr>\n",
       "      <th>171</th>\n",
       "      <td>Software Development Engineer Internship - DataX</td>\n",
       "      <td>Audible</td>\n",
       "      <td>Seattle, WA</td>\n",
       "    </tr>\n",
       "    <tr>\n",
       "      <th>172</th>\n",
       "      <td>Software Engineer II</td>\n",
       "      <td>Bank of America</td>\n",
       "      <td>Charlotte, NC</td>\n",
       "    </tr>\n",
       "    <tr>\n",
       "      <th>173</th>\n",
       "      <td>Full-stack engineer</td>\n",
       "      <td>BaseTen</td>\n",
       "      <td>San Francisco, CA</td>\n",
       "    </tr>\n",
       "    <tr>\n",
       "      <th>174</th>\n",
       "      <td>Full Stack Engineer, Bouncer</td>\n",
       "      <td>Stripe</td>\n",
       "      <td>San Francisco, CA</td>\n",
       "    </tr>\n",
       "  </tbody>\n",
       "</table>\n",
       "<p>175 rows × 3 columns</p>\n",
       "</div>"
      ],
      "text/plain": [
       "                                            Job Title     Company Name  \\\n",
       "0                                Software Engineer II  Bank of America   \n",
       "1           Software Engineer (Backend or Full-Stack)    Candid Health   \n",
       "2                            Software Engineer Intern       Allscripts   \n",
       "3                                   Software Engineer            Treet   \n",
       "4                                   Software Engineer          Promise   \n",
       "..                                                ...              ...   \n",
       "170            Full Stack Developer - JR Level REMOTE         Actalent   \n",
       "171  Software Development Engineer Internship - DataX          Audible   \n",
       "172                              Software Engineer II  Bank of America   \n",
       "173                               Full-stack engineer          BaseTen   \n",
       "174                      Full Stack Engineer, Bouncer           Stripe   \n",
       "\n",
       "               Job Location  \n",
       "0             Charlotte, NC  \n",
       "1         San Francisco, CA  \n",
       "2               Raleigh, NC  \n",
       "3    San Francisco Bay Area  \n",
       "4    San Francisco Bay Area  \n",
       "..                      ...  \n",
       "170               Plano, TX  \n",
       "171             Seattle, WA  \n",
       "172           Charlotte, NC  \n",
       "173       San Francisco, CA  \n",
       "174       San Francisco, CA  \n",
       "\n",
       "[175 rows x 3 columns]"
      ]
     },
     "execution_count": 26,
     "metadata": {},
     "output_type": "execute_result"
    }
   ],
   "source": [
    "df"
   ]
  }
 ],
 "metadata": {
  "interpreter": {
   "hash": "8860c5a2a70cad65c4a4f551bdb0e44edb7c75fe3e6ee64cbfce63c1c9f89b27"
  },
  "kernelspec": {
   "display_name": "Python 3.9.10 64-bit (windows store)",
   "language": "python",
   "name": "python3"
  },
  "language_info": {
   "codemirror_mode": {
    "name": "ipython",
    "version": 3
   },
   "file_extension": ".py",
   "mimetype": "text/x-python",
   "name": "python",
   "nbconvert_exporter": "python",
   "pygments_lexer": "ipython3",
   "version": "3.9.10"
  },
  "orig_nbformat": 4
 },
 "nbformat": 4,
 "nbformat_minor": 2
}
